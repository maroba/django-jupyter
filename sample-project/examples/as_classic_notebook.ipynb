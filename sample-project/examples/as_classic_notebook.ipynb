{
 "cells": [
  {
   "cell_type": "markdown",
   "id": "af6fcd77",
   "metadata": {},
   "source": [
    "# Basic Operators\n",
    "\n",
    "There are three basic operators out of which pretty much all other finite difference operators\n",
    "can be built: the identity operator, the translation operator and difference operator."
   ]
  },
  {
   "cell_type": "code",
   "execution_count": 1,
   "id": "38e91663",
   "metadata": {},
   "outputs": [],
   "source": [
    "from sympy import *"
   ]
  },
  {
   "cell_type": "markdown",
   "id": "125792af",
   "metadata": {},
   "source": [
    "## Identity Operator\n",
    "\n",
    "The simplest operator is the identity operator $I$. Applying the operator to some function $f(x)$ just returns the\n",
    "function:"
   ]
  },
  {
   "cell_type": "markdown",
   "id": "10f08210",
   "metadata": {},
   "source": [
    "$$\n",
    "I f(x) = f(x)\n",
    "$$"
   ]
  },
  {
   "cell_type": "markdown",
   "id": "700b8bd3",
   "metadata": {},
   "source": [
    "Of course, we can apply the operator repeatedly:\n",
    "\n",
    "$$\n",
    "I^2 f(x) = I f(x) = f(x)\n",
    "$$\n",
    "\n",
    "So as an operator identity, we have \n",
    "\n",
    "$$\n",
    "I^2 = I\n",
    "$$"
   ]
  },
  {
   "cell_type": "markdown",
   "id": "a7e6540a",
   "metadata": {},
   "source": [
    "And of course, the inverse operator is also simply\n",
    "\n",
    "$$\n",
    "I^{-1} = I\n",
    "$$"
   ]
  },
  {
   "cell_type": "markdown",
   "id": "26d952f3",
   "metadata": {},
   "source": [
    "Let's build a representation of $I$ in Python:"
   ]
  },
  {
   "cell_type": "code",
   "execution_count": 2,
   "id": "2390ed15",
   "metadata": {},
   "outputs": [],
   "source": [
    "class Identity:\n",
    "        \n",
    "    def __call__(self, f):\n",
    "        \"\"\"Applies the identity operator to a function.\"\"\"\n",
    "        return f\n",
    "    \n",
    "    def __pow__(self, *args):\n",
    "        \"\"\"Defines the power operation for the identity operator.\"\"\"\n",
    "        return self"
   ]
  },
  {
   "cell_type": "code",
   "execution_count": 3,
   "id": "e7e7dc98",
   "metadata": {},
   "outputs": [],
   "source": [
    "f, g = symbols('f, g', cls=Function)\n",
    "x, h, a, b = symbols('x, h, a, b', real=True)\n",
    "m, n = symbols('m, n', integer=True)"
   ]
  },
  {
   "cell_type": "code",
   "execution_count": 4,
   "id": "27c0ef39",
   "metadata": {},
   "outputs": [
    {
     "data": {
      "text/latex": [
       "$\\displaystyle f{\\left(x \\right)}$"
      ],
      "text/plain": [
       "f(x)"
      ]
     },
     "execution_count": 4,
     "metadata": {},
     "output_type": "execute_result"
    }
   ],
   "source": [
    "I = Identity()\n",
    "I(f(x))"
   ]
  },
  {
   "cell_type": "code",
   "execution_count": 5,
   "id": "f36f72f1",
   "metadata": {},
   "outputs": [
    {
     "data": {
      "text/latex": [
       "$\\displaystyle f{\\left(x \\right)}$"
      ],
      "text/plain": [
       "f(x)"
      ]
     },
     "execution_count": 5,
     "metadata": {},
     "output_type": "execute_result"
    }
   ],
   "source": [
    "(I**2)(f(x))"
   ]
  },
  {
   "cell_type": "code",
   "execution_count": 6,
   "id": "4f2d35e2",
   "metadata": {},
   "outputs": [
    {
     "data": {
      "text/latex": [
       "$\\displaystyle f{\\left(x \\right)}$"
      ],
      "text/plain": [
       "f(x)"
      ]
     },
     "execution_count": 6,
     "metadata": {},
     "output_type": "execute_result"
    }
   ],
   "source": [
    "(I**-1)(f(x))"
   ]
  },
  {
   "cell_type": "markdown",
   "id": "fdde49f6",
   "metadata": {},
   "source": [
    "## Translation Operator\n",
    "\n",
    "Another basic operation is shifting the function from one point $x$ to the next grid point $x+h$. The corresponding operator is called *translation operator* $T$:\n",
    "\n",
    "$$\n",
    "Tf(x) = f(x+h)\n",
    "$$\n",
    "\n",
    "$$\n",
    "T^2 f(x) = f(x+2h)\n",
    "$$"
   ]
  },
  {
   "cell_type": "markdown",
   "id": "e009d5d5",
   "metadata": {},
   "source": [
    "Of course, the inverse operation is shifting into the other direction:\n",
    "\n",
    "$$\n",
    "T^{-1} f(x) = f(x-h)\n",
    "$$"
   ]
  },
  {
   "cell_type": "markdown",
   "id": "187a6d21",
   "metadata": {},
   "source": [
    "Note that we are shifting with respect of $x$, so if we have $f(ax)$, we get\n",
    "\n",
    "$$\n",
    "T f(ax) = f(a(x+h)) = f(ax+ah)\n",
    "$$"
   ]
  },
  {
   "cell_type": "code",
   "execution_count": 7,
   "id": "9fe351b3",
   "metadata": {},
   "outputs": [],
   "source": [
    "class Translation:\n",
    "    \n",
    "    def __init__(self, shift=Symbol('h', real=True)):\n",
    "        \"\"\"Initializes the translation operator with an default shift to the right.\"\"\"\n",
    "        self.shift = shift        \n",
    "    \n",
    "    def __call__(self, f, var_name=Symbol('x', real=True)):\n",
    "        \"\"\"\n",
    "        Applies the translation operator to a function.\n",
    "\n",
    "        Parameters:\n",
    "        - f: The function to be translated.\n",
    "        - var_name: The variable name (default is 'x').\n",
    "\n",
    "        Returns:\n",
    "        The translated function.\n",
    "        \"\"\"\n",
    "        if isinstance(f, Function):\n",
    "            f_ = Function(f.name)\n",
    "            arg = f.args[0]\n",
    "            return f_(arg.subs(var_name, var_name + self.shift))\n",
    "        else:\n",
    "            return f.subs(var_name, var_name + self.shift)\n",
    "    \n",
    "    def __pow__(self, exponent):\n",
    "        \"\"\"\n",
    "        Defines the power operation for the translation operator.\n",
    "\n",
    "        Parameters:\n",
    "        - exponent: The exponent to which the translation operator is raised.\n",
    "\n",
    "        Returns:\n",
    "        A new instance of the translation operator.\n",
    "        \"\"\"\n",
    "        if exponent == 0:\n",
    "            return Identity()\n",
    "        else:\n",
    "            return Translation(exponent * self.shift)"
   ]
  },
  {
   "cell_type": "code",
   "execution_count": 8,
   "id": "c5f6ad6b",
   "metadata": {},
   "outputs": [],
   "source": [
    "T = Translation()"
   ]
  },
  {
   "cell_type": "code",
   "execution_count": 9,
   "id": "6d458dc8",
   "metadata": {},
   "outputs": [
    {
     "data": {
      "text/latex": [
       "$\\displaystyle f{\\left(h + x \\right)}$"
      ],
      "text/plain": [
       "f(h + x)"
      ]
     },
     "execution_count": 9,
     "metadata": {},
     "output_type": "execute_result"
    }
   ],
   "source": [
    "T(f(x))"
   ]
  },
  {
   "cell_type": "code",
   "execution_count": 10,
   "id": "a21579d9",
   "metadata": {},
   "outputs": [
    {
     "data": {
      "text/latex": [
       "$\\displaystyle f{\\left(2 h + x \\right)}$"
      ],
      "text/plain": [
       "f(2*h + x)"
      ]
     },
     "execution_count": 10,
     "metadata": {},
     "output_type": "execute_result"
    }
   ],
   "source": [
    "(T**2)(f(x))"
   ]
  },
  {
   "cell_type": "code",
   "execution_count": 11,
   "id": "865b3c20",
   "metadata": {},
   "outputs": [
    {
     "data": {
      "text/latex": [
       "$\\displaystyle f{\\left(h m + x \\right)}$"
      ],
      "text/plain": [
       "f(h*m + x)"
      ]
     },
     "execution_count": 11,
     "metadata": {},
     "output_type": "execute_result"
    }
   ],
   "source": [
    "(T**m)(f(x))"
   ]
  },
  {
   "cell_type": "code",
   "execution_count": 12,
   "id": "0f3d1d31",
   "metadata": {},
   "outputs": [
    {
     "data": {
      "text/latex": [
       "$\\displaystyle f{\\left(- h m + x \\right)}$"
      ],
      "text/plain": [
       "f(-h*m + x)"
      ]
     },
     "execution_count": 12,
     "metadata": {},
     "output_type": "execute_result"
    }
   ],
   "source": [
    "(T**-m)(f(x))"
   ]
  },
  {
   "cell_type": "code",
   "execution_count": 13,
   "id": "52ac4479",
   "metadata": {},
   "outputs": [
    {
     "data": {
      "text/latex": [
       "$\\displaystyle f{\\left(a \\left(h + x\\right) \\right)}$"
      ],
      "text/plain": [
       "f(a*(h + x))"
      ]
     },
     "execution_count": 13,
     "metadata": {},
     "output_type": "execute_result"
    }
   ],
   "source": [
    "T(f(a*x))"
   ]
  },
  {
   "cell_type": "code",
   "execution_count": 14,
   "id": "273b2c08",
   "metadata": {},
   "outputs": [
    {
     "data": {
      "text/latex": [
       "$\\displaystyle f{\\left(a h + a x \\right)}$"
      ],
      "text/plain": [
       "f(a*h + a*x)"
      ]
     },
     "execution_count": 14,
     "metadata": {},
     "output_type": "execute_result"
    }
   ],
   "source": [
    "expand(_)"
   ]
  },
  {
   "cell_type": "markdown",
   "id": "0bb1316e",
   "metadata": {},
   "source": [
    "Note that in the Python implementation, we have made the distinction if the argument given to \n",
    "the translation operator is a function or not. So this allows us to also handle cases like $T x^2 = (x+h)^2$ where no function object is involved:"
   ]
  },
  {
   "cell_type": "code",
   "execution_count": 15,
   "id": "3464170c",
   "metadata": {},
   "outputs": [
    {
     "data": {
      "text/latex": [
       "$\\displaystyle \\left(h + x\\right)^{2}$"
      ],
      "text/plain": [
       "(h + x)**2"
      ]
     },
     "execution_count": 15,
     "metadata": {},
     "output_type": "execute_result"
    }
   ],
   "source": [
    "T(x**2)"
   ]
  },
  {
   "cell_type": "code",
   "execution_count": 16,
   "id": "c2e6b5c2",
   "metadata": {},
   "outputs": [
    {
     "data": {
      "text/latex": [
       "$\\displaystyle h^{2} + 2 h x + x^{2}$"
      ],
      "text/plain": [
       "h**2 + 2*h*x + x**2"
      ]
     },
     "execution_count": 16,
     "metadata": {},
     "output_type": "execute_result"
    }
   ],
   "source": [
    "expand(_)"
   ]
  },
  {
   "cell_type": "markdown",
   "id": "73d5c6df",
   "metadata": {},
   "source": [
    "$$\n",
    "T^3(3x-4)\n",
    "$$"
   ]
  },
  {
   "cell_type": "code",
   "execution_count": 17,
   "id": "e1fab1f1",
   "metadata": {},
   "outputs": [
    {
     "data": {
      "text/latex": [
       "$\\displaystyle 9 h + 3 x - 4$"
      ],
      "text/plain": [
       "9*h + 3*x - 4"
      ]
     },
     "execution_count": 17,
     "metadata": {},
     "output_type": "execute_result"
    }
   ],
   "source": [
    "(T**3)(3*x-4)"
   ]
  },
  {
   "cell_type": "markdown",
   "id": "cd845a66",
   "metadata": {},
   "source": [
    "## Difference Operator"
   ]
  },
  {
   "cell_type": "markdown",
   "id": "e4b6a07a",
   "metadata": {},
   "source": [
    "The third basic operator is the difference operator $\\Delta$, which is defined as\n",
    "\n",
    "$$\n",
    "\\Delta f(x) = f(x+h) - f(x)\n",
    "$$\n",
    "\n",
    "Its importance stems from the definition of the derivative, of course:\n",
    "\n",
    "$$\n",
    "\\frac{df}{dx} = \\lim_{h\\rightarrow 0} \\frac{f(x+h) - f(x)}{h} = \\lim_{h\\rightarrow 0} \\frac{\\Delta f(x)}{\\Delta x}\n",
    "$$"
   ]
  },
  {
   "cell_type": "markdown",
   "id": "e4edcdd7",
   "metadata": {},
   "source": [
    "Note that $\\Delta$ can be written in terms of the identity operator and the translation operator:\n",
    "\n",
    "$$\n",
    "\\Delta = T - I\n",
    "$$"
   ]
  },
  {
   "cell_type": "markdown",
   "id": "723f6423",
   "metadata": {},
   "source": [
    "So when we implement it in Python, we can reuse the classes for $T$ and $I$. But first, we have to extend them by addition and subtraction functionality:"
   ]
  },
  {
   "cell_type": "code",
   "execution_count": 18,
   "id": "6db54200",
   "metadata": {},
   "outputs": [],
   "source": [
    "class Difference:\n",
    "    \n",
    "    def __call__(self, f):\n",
    "        \"\"\"\n",
    "        Applies the difference operator to a function.\n",
    "\n",
    "        Parameters:\n",
    "        - f: The function to which the difference operator is applied.\n",
    "\n",
    "        Returns:\n",
    "        The result of the difference operator.\n",
    "        \"\"\"\n",
    "        T = Translation()\n",
    "        I = Identity()\n",
    "        return T(f) - I(f)"
   ]
  },
  {
   "cell_type": "code",
   "execution_count": 19,
   "id": "b331251a",
   "metadata": {},
   "outputs": [],
   "source": [
    "Δ = Difference()"
   ]
  },
  {
   "cell_type": "code",
   "execution_count": 20,
   "id": "df91bcb0",
   "metadata": {},
   "outputs": [
    {
     "data": {
      "text/latex": [
       "$\\displaystyle - f{\\left(x \\right)} + f{\\left(h + x \\right)}$"
      ],
      "text/plain": [
       "-f(x) + f(h + x)"
      ]
     },
     "execution_count": 20,
     "metadata": {},
     "output_type": "execute_result"
    }
   ],
   "source": [
    "Δ(f(x))"
   ]
  },
  {
   "cell_type": "code",
   "execution_count": 21,
   "id": "33bc7087",
   "metadata": {},
   "outputs": [
    {
     "data": {
      "text/latex": [
       "$\\displaystyle \\frac{- f{\\left(x \\right)} + f{\\left(h + x \\right)}}{h}$"
      ],
      "text/plain": [
       "(-f(x) + f(h + x))/h"
      ]
     },
     "execution_count": 21,
     "metadata": {},
     "output_type": "execute_result"
    }
   ],
   "source": [
    "Δ(f(x)) / Δ(x)"
   ]
  },
  {
   "cell_type": "markdown",
   "id": "5c08d38d",
   "metadata": {},
   "source": [
    "Of course, we can call it repeatedly:"
   ]
  },
  {
   "cell_type": "code",
   "execution_count": 22,
   "id": "4001ea9f",
   "metadata": {},
   "outputs": [
    {
     "data": {
      "text/latex": [
       "$\\displaystyle f{\\left(x \\right)} - 2 f{\\left(h + x \\right)} + f{\\left(2 h + x \\right)}$"
      ],
      "text/plain": [
       "f(x) - 2*f(h + x) + f(2*h + x)"
      ]
     },
     "execution_count": 22,
     "metadata": {},
     "output_type": "execute_result"
    }
   ],
   "source": [
    "Δ(Δ(f(x)))"
   ]
  },
  {
   "cell_type": "markdown",
   "id": "f503f9b4",
   "metadata": {},
   "source": [
    "We could have defined the difference operator in the other direction,\n",
    "\n",
    "$$\n",
    "\\Delta' f(x) = f(x) - f(x-h)\n",
    "$$\n",
    "\n",
    "but actually, it doesn't matter, since it does not give any new information. In fact, we can simply write\n",
    "\n",
    "$$\n",
    "\\Delta' f(x) = T^{-1} (f(x+h) - f(x)) = T^{-1}\\Delta f(x)\n",
    "$$"
   ]
  },
  {
   "cell_type": "markdown",
   "id": "e06d2628",
   "metadata": {},
   "source": [
    "So we have \n",
    "\n",
    "$$\n",
    "    \\Delta' = T^{-1}\\Delta\n",
    "$$"
   ]
  },
  {
   "cell_type": "markdown",
   "id": "feb04dae",
   "metadata": {},
   "source": [
    "By the way, $\\Delta$ and $T$ commute, i.e. the order in which we apply them does not matter:\n",
    "\n",
    "$$\n",
    "T \\Delta = \\Delta T\n",
    "$$\n",
    "\n",
    "Or, if you have a physics background, you would write it as the commutator \n",
    "\n",
    "$$[T, \\Delta] = T \\Delta - \\Delta T = 0$$"
   ]
  },
  {
   "cell_type": "markdown",
   "id": "8ad600b9",
   "metadata": {},
   "source": [
    "Let's check with our code:"
   ]
  },
  {
   "cell_type": "code",
   "execution_count": 23,
   "id": "16188d88",
   "metadata": {},
   "outputs": [
    {
     "data": {
      "text/latex": [
       "$\\displaystyle - f{\\left(h + x \\right)} + f{\\left(2 h + x \\right)}$"
      ],
      "text/plain": [
       "-f(h + x) + f(2*h + x)"
      ]
     },
     "execution_count": 23,
     "metadata": {},
     "output_type": "execute_result"
    }
   ],
   "source": [
    "T(Δ(f(x)))"
   ]
  },
  {
   "cell_type": "code",
   "execution_count": 24,
   "id": "1d8f51c3",
   "metadata": {},
   "outputs": [
    {
     "data": {
      "text/latex": [
       "$\\displaystyle - f{\\left(h + x \\right)} + f{\\left(2 h + x \\right)}$"
      ],
      "text/plain": [
       "-f(h + x) + f(2*h + x)"
      ]
     },
     "execution_count": 24,
     "metadata": {},
     "output_type": "execute_result"
    }
   ],
   "source": [
    "Δ(T(f(x)))"
   ]
  },
  {
   "cell_type": "code",
   "execution_count": 25,
   "id": "e4e40793",
   "metadata": {},
   "outputs": [
    {
     "data": {
      "text/latex": [
       "$\\displaystyle 0$"
      ],
      "text/plain": [
       "0"
      ]
     },
     "execution_count": 25,
     "metadata": {},
     "output_type": "execute_result"
    }
   ],
   "source": [
    "T(Δ(f(x))) - Δ(T(f(x)))"
   ]
  },
  {
   "cell_type": "markdown",
   "id": "66b5dbe4",
   "metadata": {},
   "source": [
    "### The difference operator is linear"
   ]
  },
  {
   "cell_type": "markdown",
   "id": "d19b9f18",
   "metadata": {},
   "source": [
    "$$\n",
    "\\Delta \\left(af(x) + bg(x)\\right) = a\\Delta f(x) + b \\Delta g(x)\n",
    "$$"
   ]
  },
  {
   "cell_type": "code",
   "execution_count": 26,
   "id": "788a5bd3",
   "metadata": {},
   "outputs": [
    {
     "data": {
      "text/latex": [
       "$\\displaystyle - a f{\\left(x \\right)} + a f{\\left(h + x \\right)} - b g{\\left(x \\right)} + b g{\\left(h + x \\right)}$"
      ],
      "text/plain": [
       "-a*f(x) + a*f(h + x) - b*g(x) + b*g(h + x)"
      ]
     },
     "execution_count": 26,
     "metadata": {},
     "output_type": "execute_result"
    }
   ],
   "source": [
    "Δ(a*f(x) + b*g(x))"
   ]
  },
  {
   "cell_type": "code",
   "execution_count": 27,
   "id": "9e755498",
   "metadata": {},
   "outputs": [
    {
     "data": {
      "text/latex": [
       "$\\displaystyle a \\left(- f{\\left(x \\right)} + f{\\left(h + x \\right)}\\right) + b \\left(- g{\\left(x \\right)} + g{\\left(h + x \\right)}\\right)$"
      ],
      "text/plain": [
       "a*(-f(x) + f(h + x)) + b*(-g(x) + g(h + x))"
      ]
     },
     "execution_count": 27,
     "metadata": {},
     "output_type": "execute_result"
    }
   ],
   "source": [
    "a*Δ(f(x)) + b*Δ(g(x))"
   ]
  },
  {
   "cell_type": "code",
   "execution_count": 28,
   "id": "faaf8869",
   "metadata": {},
   "outputs": [
    {
     "data": {
      "text/latex": [
       "$\\displaystyle a \\left(- f{\\left(x \\right)} + f{\\left(h + x \\right)}\\right) + a f{\\left(x \\right)} - a f{\\left(h + x \\right)} + b \\left(- g{\\left(x \\right)} + g{\\left(h + x \\right)}\\right) + b g{\\left(x \\right)} - b g{\\left(h + x \\right)}$"
      ],
      "text/plain": [
       "a*(-f(x) + f(h + x)) + a*f(x) - a*f(h + x) + b*(-g(x) + g(h + x)) + b*g(x) - b*g(h + x)"
      ]
     },
     "execution_count": 28,
     "metadata": {},
     "output_type": "execute_result"
    }
   ],
   "source": [
    "_ - __"
   ]
  },
  {
   "cell_type": "code",
   "execution_count": 29,
   "id": "0ea13c19",
   "metadata": {},
   "outputs": [
    {
     "data": {
      "text/latex": [
       "$\\displaystyle 0$"
      ],
      "text/plain": [
       "0"
      ]
     },
     "execution_count": 29,
     "metadata": {},
     "output_type": "execute_result"
    }
   ],
   "source": [
    "simplify(_)"
   ]
  },
  {
   "cell_type": "markdown",
   "id": "d44b9ea4",
   "metadata": {},
   "source": [
    "### Product Rule"
   ]
  },
  {
   "cell_type": "markdown",
   "id": "09e9dfbc",
   "metadata": {},
   "source": [
    "In contrast to ordinary calculus, the product rule in finite difference calculus is\n",
    "\n",
    "$$\n",
    "\\Delta (f(x) g(x)) = g(x) \\Delta f(x) + f(x)\\Delta g(x) + \\Delta f(x) \\Delta g(x)\n",
    "$$"
   ]
  },
  {
   "cell_type": "code",
   "execution_count": 30,
   "id": "b503c49d",
   "metadata": {},
   "outputs": [
    {
     "data": {
      "text/latex": [
       "$\\displaystyle - f{\\left(x \\right)} g{\\left(x \\right)} + f{\\left(h + x \\right)} g{\\left(h + x \\right)}$"
      ],
      "text/plain": [
       "-f(x)*g(x) + f(h + x)*g(h + x)"
      ]
     },
     "execution_count": 30,
     "metadata": {},
     "output_type": "execute_result"
    }
   ],
   "source": [
    "Δ(f(x) * g(x))"
   ]
  },
  {
   "cell_type": "code",
   "execution_count": 31,
   "id": "bc3617e4",
   "metadata": {},
   "outputs": [
    {
     "data": {
      "text/latex": [
       "$\\displaystyle - f{\\left(x \\right)} g{\\left(x \\right)} + f{\\left(h + x \\right)} g{\\left(h + x \\right)}$"
      ],
      "text/plain": [
       "-f(x)*g(x) + f(h + x)*g(h + x)"
      ]
     },
     "execution_count": 31,
     "metadata": {},
     "output_type": "execute_result"
    }
   ],
   "source": [
    "expand(Δ(f(x)) * g(x) + Δ(g(x)) * f(x) + Δ(f(x)) * Δ(g(x)))"
   ]
  },
  {
   "cell_type": "code",
   "execution_count": 32,
   "id": "bd09d6b8",
   "metadata": {},
   "outputs": [
    {
     "data": {
      "text/latex": [
       "$\\displaystyle 0$"
      ],
      "text/plain": [
       "0"
      ]
     },
     "execution_count": 32,
     "metadata": {},
     "output_type": "execute_result"
    }
   ],
   "source": [
    "_ - __"
   ]
  },
  {
   "cell_type": "markdown",
   "id": "62e93714",
   "metadata": {},
   "source": [
    "### Division Rule"
   ]
  },
  {
   "cell_type": "markdown",
   "id": "6b27e95c",
   "metadata": {},
   "source": [
    "The division rule is also a bit different from ordinary calculus. It reads\n",
    "\n",
    "$$\n",
    "\\Delta\\frac{f(x)}{g(x)} = \\frac{g(x)\\Delta f(x)- f(x)\\Delta g(x)}{g(x)g(x+h)}\n",
    "$$"
   ]
  },
  {
   "cell_type": "code",
   "execution_count": 33,
   "id": "430f5d8e",
   "metadata": {},
   "outputs": [
    {
     "data": {
      "text/latex": [
       "$\\displaystyle - \\frac{f{\\left(x \\right)}}{g{\\left(x \\right)}} + \\frac{f{\\left(h + x \\right)}}{g{\\left(h + x \\right)}}$"
      ],
      "text/plain": [
       "-f(x)/g(x) + f(h + x)/g(h + x)"
      ]
     },
     "execution_count": 33,
     "metadata": {},
     "output_type": "execute_result"
    }
   ],
   "source": [
    "Δ(f(x) / g(x))"
   ]
  },
  {
   "cell_type": "code",
   "execution_count": 34,
   "id": "5eb9af18",
   "metadata": {},
   "outputs": [
    {
     "data": {
      "text/latex": [
       "$\\displaystyle \\frac{\\left(- f{\\left(x \\right)} + f{\\left(h + x \\right)}\\right) g{\\left(x \\right)} - \\left(- g{\\left(x \\right)} + g{\\left(h + x \\right)}\\right) f{\\left(x \\right)}}{g{\\left(x \\right)} g{\\left(h + x \\right)}}$"
      ],
      "text/plain": [
       "((-f(x) + f(h + x))*g(x) - (-g(x) + g(h + x))*f(x))/(g(x)*g(h + x))"
      ]
     },
     "execution_count": 34,
     "metadata": {},
     "output_type": "execute_result"
    }
   ],
   "source": [
    "(g(x) * Δ(f(x)) - f(x) * Δ(g(x))) / (g(x)*g(x+h))"
   ]
  },
  {
   "cell_type": "code",
   "execution_count": 35,
   "id": "f560b83a",
   "metadata": {},
   "outputs": [
    {
     "data": {
      "text/latex": [
       "$\\displaystyle - \\frac{\\left(- f{\\left(x \\right)} + f{\\left(h + x \\right)}\\right) g{\\left(x \\right)} - \\left(- g{\\left(x \\right)} + g{\\left(h + x \\right)}\\right) f{\\left(x \\right)}}{g{\\left(x \\right)} g{\\left(h + x \\right)}} - \\frac{f{\\left(x \\right)}}{g{\\left(x \\right)}} + \\frac{f{\\left(h + x \\right)}}{g{\\left(h + x \\right)}}$"
      ],
      "text/plain": [
       "-((-f(x) + f(h + x))*g(x) - (-g(x) + g(h + x))*f(x))/(g(x)*g(h + x)) - f(x)/g(x) + f(h + x)/g(h + x)"
      ]
     },
     "execution_count": 35,
     "metadata": {},
     "output_type": "execute_result"
    }
   ],
   "source": [
    "__ - _"
   ]
  },
  {
   "cell_type": "code",
   "execution_count": 36,
   "id": "5b606eca",
   "metadata": {},
   "outputs": [
    {
     "data": {
      "text/latex": [
       "$\\displaystyle 0$"
      ],
      "text/plain": [
       "0"
      ]
     },
     "execution_count": 36,
     "metadata": {},
     "output_type": "execute_result"
    }
   ],
   "source": [
    "simplify(_)"
   ]
  },
  {
   "cell_type": "markdown",
   "id": "7f34b885-b3e0-408c-b634-c42be178618e",
   "metadata": {},
   "source": [
    "## Derivative Operator in Finite Differences\n",
    "\n",
    "From ordinary calculus, we know Taylor's theorem, which allows us to express a function\n",
    "as\n",
    "\n",
    "```{math}\n",
    ":label: taylor\n",
    "f(x+h) = f(x) + \\frac{h}{1!}\\frac{df(x)}{dx} + \\frac{h^2}{2!}\\frac{d^2f(x)}{dx^2} + \\frac{h^3}{3!}\\frac{d^3f(x)}{dx^3} + \\dots\n",
    "```\n"
   ]
  },
  {
   "cell_type": "markdown",
   "id": "0175f593-c59d-4653-b789-e44ee04e25ab",
   "metadata": {},
   "source": [
    "From here it is easy to obtain an operator identity connecting the exact derivative operator with the difference operator. We can write the right-hand side of {eq}`taylor` as"
   ]
  },
  {
   "cell_type": "markdown",
   "id": "4576aef0-0369-49d8-b7cc-867ba1c43514",
   "metadata": {},
   "source": [
    "```{math}\n",
    "\\exp\\left(h \\frac{d}{dx}\\right) f(x)\n",
    "```"
   ]
  },
  {
   "cell_type": "markdown",
   "id": "04eca4b8-770b-49fa-9198-8624f214c26e",
   "metadata": {},
   "source": [
    "and the left hand-side as\n",
    "\n",
    "$$\n",
    "f(x+h) = T f(x)\n",
    "$$\n",
    "\n",
    "So we have the operator identity\n",
    "\n",
    "$$\n",
    "T = \\exp\\left(h \\frac{d}{dx}\\right)\n",
    "$$\n",
    "\n",
    "On the other hand, we know that $\\Delta = T - I$, so we have\n",
    "\n",
    "$$\n",
    "I + \\Delta = \\exp\\left(h \\frac{d}{dx}\\right)\n",
    "$$\n",
    "\n",
    "Taking the logarithm, we get\n",
    "\n",
    "$$\n",
    "\\frac{d}{dx} = \\frac{1}{h} \\ln\\left(I + \\Delta\\right)\n",
    "$$"
   ]
  },
  {
   "cell_type": "markdown",
   "id": "c453ac8d-5a5e-4da9-9db1-36880ec17990",
   "metadata": {},
   "source": [
    "Note that this expression is still exact! But how do we evaluate this? Well, simply expand the logarithm as a power series."
   ]
  },
  {
   "cell_type": "markdown",
   "id": "dc04f383-fe6e-4f10-8a89-f582a408f894",
   "metadata": {},
   "source": [
    "$$\n",
    "\\frac{d}{dx} = \\frac{1}{h} \\left(\\frac{\\Delta}{1} - \\frac{\\Delta^2}{2} + \\frac{\\Delta^3}{3} - \\frac{\\Delta^4}{4} + \\dots \\right)\n",
    "$$"
   ]
  },
  {
   "cell_type": "markdown",
   "id": "ced5c399-d0eb-44ba-9a8d-932a8a4ab857",
   "metadata": {},
   "source": [
    "Can't remember the power series of the logarithm? No problem, *SymPy* helps you out:"
   ]
  },
  {
   "cell_type": "code",
   "execution_count": 37,
   "id": "3778943f-59e8-42d9-a1ec-4be9554670c9",
   "metadata": {},
   "outputs": [
    {
     "data": {
      "text/latex": [
       "$\\displaystyle x - \\frac{x^{2}}{2} + \\frac{x^{3}}{3} - \\frac{x^{4}}{4} + \\frac{x^{5}}{5} + O\\left(x^{6}\\right)$"
      ],
      "text/plain": [
       "x - x**2/2 + x**3/3 - x**4/4 + x**5/5 + O(x**6)"
      ]
     },
     "execution_count": 37,
     "metadata": {},
     "output_type": "execute_result"
    }
   ],
   "source": [
    "series(log(1+x), x)"
   ]
  }
 ],
 "metadata": {
  "jupytext": {
   "formats": "ipynb,auto:light"
  },
  "kernelspec": {
   "display_name": "Python 3 (ipykernel)",
   "language": "python",
   "name": "python3"
  },
  "language_info": {
   "codemirror_mode": {
    "name": "ipython",
    "version": 3
   },
   "file_extension": ".py",
   "mimetype": "text/x-python",
   "name": "python",
   "nbconvert_exporter": "python",
   "pygments_lexer": "ipython3",
   "version": "3.9.6"
  },
  "varInspector": {
   "cols": {
    "lenName": 16,
    "lenType": 16,
    "lenVar": 40
   },
   "kernels_config": {
    "python": {
     "delete_cmd_postfix": "",
     "delete_cmd_prefix": "del ",
     "library": "var_list.py",
     "varRefreshCmd": "print(var_dic_list())"
    },
    "r": {
     "delete_cmd_postfix": ") ",
     "delete_cmd_prefix": "rm(",
     "library": "var_list.r",
     "varRefreshCmd": "cat(var_dic_list()) "
    }
   },
   "types_to_exclude": [
    "module",
    "function",
    "builtin_function_or_method",
    "instance",
    "_Feature"
   ],
   "window_display": false
  }
 },
 "nbformat": 4,
 "nbformat_minor": 5
}
